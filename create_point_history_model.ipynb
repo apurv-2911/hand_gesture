{
 "cells": [
  {
   "cell_type": "code",
   "execution_count": 1,
   "id": "31fa0232-003b-4ab4-8746-bbb1bc1c90a0",
   "metadata": {},
   "outputs": [],
   "source": [
    "import csv\n",
    "\n",
    "import numpy as np\n",
    "import tensorflow as tf\n",
    "from sklearn.model_selection import train_test_split\n",
    "\n",
    "RANDOM_SEED = 42"
   ]
  },
  {
   "cell_type": "code",
   "execution_count": 2,
   "id": "0b21a525-56ae-4ea3-b832-4b63a42b6fed",
   "metadata": {},
   "outputs": [],
   "source": [
    "dataset = 'model/point_history_classifier/point_history.csv'\n",
    "model_save_path = 'model/point_history_classifier/point_history_classifier.hdf5'"
   ]
  },
  {
   "cell_type": "code",
   "execution_count": 3,
   "id": "5ddcba95-6115-4b51-9ce4-33814c5bd657",
   "metadata": {},
   "outputs": [],
   "source": [
    "NUM_CLASSES = 4"
   ]
  },
  {
   "cell_type": "code",
   "execution_count": 4,
   "id": "c2986f9b-c214-43ea-a5b5-9c60969f035b",
   "metadata": {},
   "outputs": [
    {
     "data": {
      "text/plain": [
       "[PhysicalDevice(name='/physical_device:GPU:0', device_type='GPU')]"
      ]
     },
     "execution_count": 4,
     "metadata": {},
     "output_type": "execute_result"
    }
   ],
   "source": [
    "physical_devices = tf.config.list_physical_devices(\"GPU\")\n",
    "physical_devices"
   ]
  },
  {
   "cell_type": "code",
   "execution_count": 5,
   "id": "d334cc23-4339-4b25-8ea4-7c6f1502199a",
   "metadata": {},
   "outputs": [],
   "source": [
    "tf.config.experimental.set_memory_growth(physical_devices[0], True)"
   ]
  },
  {
   "cell_type": "code",
   "execution_count": 7,
   "id": "e5fdecb9-16fc-4680-958b-cd58f656a731",
   "metadata": {},
   "outputs": [],
   "source": [
    "TIME_STEPS = 16\n",
    "DIMENSION = 2"
   ]
  },
  {
   "cell_type": "code",
   "execution_count": 8,
   "id": "1d932996-6085-4773-b718-b2eee43a1db3",
   "metadata": {},
   "outputs": [],
   "source": [
    "X_dataset = np.loadtxt(dataset, delimiter=',', dtype='float32', usecols=list(range(1, (TIME_STEPS * DIMENSION) + 1)))"
   ]
  },
  {
   "cell_type": "code",
   "execution_count": 9,
   "id": "24c3194c-45e4-4421-8530-e2ed170f06eb",
   "metadata": {},
   "outputs": [],
   "source": [
    "y_dataset = np.loadtxt(dataset, delimiter=',', dtype='int32', usecols=(0))"
   ]
  },
  {
   "cell_type": "code",
   "execution_count": 10,
   "id": "13fce828-9d93-4b8a-ba27-9b77c0bedc4a",
   "metadata": {},
   "outputs": [],
   "source": [
    "X_train, X_test, y_train, y_test = train_test_split(X_dataset, y_dataset, train_size=0.75, random_state=RANDOM_SEED)"
   ]
  },
  {
   "cell_type": "code",
   "execution_count": 11,
   "id": "8426968b-9fc1-49c9-bc0e-20509f637e3e",
   "metadata": {},
   "outputs": [],
   "source": [
    "use_lstm = False\n",
    "model = None\n",
    "\n",
    "if use_lstm:\n",
    "    model = tf.keras.models.Sequential([\n",
    "        tf.keras.layers.InputLayer(input_shape=(TIME_STEPS * DIMENSION, )),\n",
    "        tf.keras.layers.Reshape((TIME_STEPS, DIMENSION), input_shape=(TIME_STEPS * DIMENSION, )), \n",
    "        tf.keras.layers.Dropout(0.2),\n",
    "        tf.keras.layers.LSTM(16, input_shape=[TIME_STEPS, DIMENSION]),\n",
    "        tf.keras.layers.Dropout(0.5),\n",
    "        tf.keras.layers.Dense(10, activation='relu'),\n",
    "        tf.keras.layers.Dense(NUM_CLASSES, activation='softmax')\n",
    "    ])\n",
    "else:\n",
    "    model = tf.keras.models.Sequential([\n",
    "        tf.keras.layers.InputLayer(input_shape=(TIME_STEPS * DIMENSION, )),\n",
    "        tf.keras.layers.Dropout(0.2),\n",
    "        tf.keras.layers.Dense(24, activation='relu'),\n",
    "        tf.keras.layers.Dropout(0.5),\n",
    "        tf.keras.layers.Dense(10, activation='relu'),\n",
    "        tf.keras.layers.Dense(NUM_CLASSES, activation='softmax')\n",
    "    ])"
   ]
  },
  {
   "cell_type": "code",
   "execution_count": 14,
   "id": "6a7aeccf-c371-48fe-908a-8ca01404c721",
   "metadata": {},
   "outputs": [
    {
     "name": "stdout",
     "output_type": "stream",
     "text": [
      "Model: \"sequential\"\n",
      "_________________________________________________________________\n",
      " Layer (type)                Output Shape              Param #   \n",
      "=================================================================\n",
      " dropout (Dropout)           (None, 32)                0         \n",
      "                                                                 \n",
      " dense (Dense)               (None, 24)                792       \n",
      "                                                                 \n",
      " dropout_1 (Dropout)         (None, 24)                0         \n",
      "                                                                 \n",
      " dense_1 (Dense)             (None, 10)                250       \n",
      "                                                                 \n",
      " dense_2 (Dense)             (None, 4)                 44        \n",
      "                                                                 \n",
      "=================================================================\n",
      "Total params: 1,086\n",
      "Trainable params: 1,086\n",
      "Non-trainable params: 0\n",
      "_________________________________________________________________\n"
     ]
    }
   ],
   "source": [
    "model.summary() "
   ]
  },
  {
   "cell_type": "code",
   "execution_count": 15,
   "id": "a9f77dc6-a6e9-4730-8649-a6e7ff116064",
   "metadata": {},
   "outputs": [],
   "source": [
    "cp_callback = tf.keras.callbacks.ModelCheckpoint(\n",
    "    model_save_path, verbose=1, save_weights_only=False)\n",
    "es_callback = tf.keras.callbacks.EarlyStopping(patience=20, verbose=1)"
   ]
  },
  {
   "cell_type": "code",
   "execution_count": 16,
   "id": "af6980da-3fa7-4db7-bbbd-9cbed82c46b6",
   "metadata": {},
   "outputs": [],
   "source": [
    "model.compile(\n",
    "    optimizer='adam',\n",
    "    loss='sparse_categorical_crossentropy',\n",
    "    metrics=['accuracy']\n",
    ")"
   ]
  },
  {
   "cell_type": "code",
   "execution_count": 18,
   "id": "3d9d138a-f772-4b5f-b9b4-a8443a65cf50",
   "metadata": {},
   "outputs": [
    {
     "name": "stdout",
     "output_type": "stream",
     "text": [
      "Epoch 1/1000\n",
      "14/25 [===============>..............] - ETA: 0s - loss: 0.4091 - accuracy: 0.8521\n",
      "Epoch 1: saving model to model/point_history_classifier\\point_history_classifier.hdf5\n",
      "25/25 [==============================] - 0s 7ms/step - loss: 0.4098 - accuracy: 0.8473 - val_loss: 0.1823 - val_accuracy: 0.9698\n",
      "Epoch 2/1000\n",
      "15/25 [=================>............] - ETA: 0s - loss: 0.3964 - accuracy: 0.8552\n",
      "Epoch 2: saving model to model/point_history_classifier\\point_history_classifier.hdf5\n",
      "25/25 [==============================] - 0s 6ms/step - loss: 0.4079 - accuracy: 0.8524 - val_loss: 0.1813 - val_accuracy: 0.9673\n",
      "Epoch 3/1000\n",
      "15/25 [=================>............] - ETA: 0s - loss: 0.3973 - accuracy: 0.8547\n",
      "Epoch 3: saving model to model/point_history_classifier\\point_history_classifier.hdf5\n",
      "25/25 [==============================] - 0s 6ms/step - loss: 0.4096 - accuracy: 0.8540 - val_loss: 0.1801 - val_accuracy: 0.9660\n",
      "Epoch 4/1000\n",
      "14/25 [===============>..............] - ETA: 0s - loss: 0.4078 - accuracy: 0.8432\n",
      "Epoch 4: saving model to model/point_history_classifier\\point_history_classifier.hdf5\n",
      "25/25 [==============================] - 0s 6ms/step - loss: 0.4061 - accuracy: 0.8511 - val_loss: 0.1803 - val_accuracy: 0.9686\n",
      "Epoch 5/1000\n",
      "17/25 [===================>..........] - ETA: 0s - loss: 0.4101 - accuracy: 0.8470\n",
      "Epoch 5: saving model to model/point_history_classifier\\point_history_classifier.hdf5\n",
      "25/25 [==============================] - 0s 6ms/step - loss: 0.4062 - accuracy: 0.8489 - val_loss: 0.1822 - val_accuracy: 0.9711\n",
      "Epoch 6/1000\n",
      "16/25 [==================>...........] - ETA: 0s - loss: 0.4142 - accuracy: 0.8447\n",
      "Epoch 6: saving model to model/point_history_classifier\\point_history_classifier.hdf5\n",
      "25/25 [==============================] - 0s 6ms/step - loss: 0.4083 - accuracy: 0.8477 - val_loss: 0.1814 - val_accuracy: 0.9686\n",
      "Epoch 7/1000\n",
      "16/25 [==================>...........] - ETA: 0s - loss: 0.4198 - accuracy: 0.8442\n",
      "Epoch 7: saving model to model/point_history_classifier\\point_history_classifier.hdf5\n",
      "25/25 [==============================] - 0s 6ms/step - loss: 0.4124 - accuracy: 0.8455 - val_loss: 0.1815 - val_accuracy: 0.9698\n",
      "Epoch 8/1000\n",
      "14/25 [===============>..............] - ETA: 0s - loss: 0.4482 - accuracy: 0.8421\n",
      "Epoch 8: saving model to model/point_history_classifier\\point_history_classifier.hdf5\n",
      "25/25 [==============================] - 0s 6ms/step - loss: 0.4197 - accuracy: 0.8517 - val_loss: 0.1823 - val_accuracy: 0.9723\n",
      "Epoch 9/1000\n",
      "17/25 [===================>..........] - ETA: 0s - loss: 0.3968 - accuracy: 0.8488\n",
      "Epoch 9: saving model to model/point_history_classifier\\point_history_classifier.hdf5\n",
      "25/25 [==============================] - 0s 6ms/step - loss: 0.3957 - accuracy: 0.8543 - val_loss: 0.1812 - val_accuracy: 0.9711\n",
      "Epoch 10/1000\n",
      "14/25 [===============>..............] - ETA: 0s - loss: 0.4192 - accuracy: 0.8482\n",
      "Epoch 10: saving model to model/point_history_classifier\\point_history_classifier.hdf5\n",
      "25/25 [==============================] - 0s 6ms/step - loss: 0.4107 - accuracy: 0.8536 - val_loss: 0.1811 - val_accuracy: 0.9723\n",
      "Epoch 11/1000\n",
      "15/25 [=================>............] - ETA: 0s - loss: 0.4102 - accuracy: 0.8531\n",
      "Epoch 11: saving model to model/point_history_classifier\\point_history_classifier.hdf5\n",
      "25/25 [==============================] - 0s 6ms/step - loss: 0.3933 - accuracy: 0.8571 - val_loss: 0.1807 - val_accuracy: 0.9686\n",
      "Epoch 12/1000\n",
      "17/25 [===================>..........] - ETA: 0s - loss: 0.3981 - accuracy: 0.8534\n",
      "Epoch 12: saving model to model/point_history_classifier\\point_history_classifier.hdf5\n",
      "25/25 [==============================] - 0s 6ms/step - loss: 0.3940 - accuracy: 0.8580 - val_loss: 0.1810 - val_accuracy: 0.9698\n",
      "Epoch 13/1000\n",
      "17/25 [===================>..........] - ETA: 0s - loss: 0.4015 - accuracy: 0.8543\n",
      "Epoch 13: saving model to model/point_history_classifier\\point_history_classifier.hdf5\n",
      "25/25 [==============================] - 0s 6ms/step - loss: 0.4024 - accuracy: 0.8530 - val_loss: 0.1804 - val_accuracy: 0.9698\n",
      "Epoch 14/1000\n",
      "17/25 [===================>..........] - ETA: 0s - loss: 0.4317 - accuracy: 0.8396\n",
      "Epoch 14: saving model to model/point_history_classifier\\point_history_classifier.hdf5\n",
      "25/25 [==============================] - 0s 6ms/step - loss: 0.4170 - accuracy: 0.8442 - val_loss: 0.1808 - val_accuracy: 0.9711\n",
      "Epoch 15/1000\n",
      "16/25 [==================>...........] - ETA: 0s - loss: 0.3888 - accuracy: 0.8540\n",
      "Epoch 15: saving model to model/point_history_classifier\\point_history_classifier.hdf5\n",
      "25/25 [==============================] - 0s 6ms/step - loss: 0.3919 - accuracy: 0.8568 - val_loss: 0.1800 - val_accuracy: 0.9698\n",
      "Epoch 16/1000\n",
      "19/25 [=====================>........] - ETA: 0s - loss: 0.4200 - accuracy: 0.8499\n",
      "Epoch 16: saving model to model/point_history_classifier\\point_history_classifier.hdf5\n",
      "25/25 [==============================] - 0s 6ms/step - loss: 0.4095 - accuracy: 0.8565 - val_loss: 0.1811 - val_accuracy: 0.9698\n",
      "Epoch 17/1000\n",
      "16/25 [==================>...........] - ETA: 0s - loss: 0.4078 - accuracy: 0.8521\n",
      "Epoch 17: saving model to model/point_history_classifier\\point_history_classifier.hdf5\n",
      "25/25 [==============================] - 0s 6ms/step - loss: 0.4060 - accuracy: 0.8562 - val_loss: 0.1807 - val_accuracy: 0.9660\n",
      "Epoch 18/1000\n",
      "17/25 [===================>..........] - ETA: 0s - loss: 0.4046 - accuracy: 0.8488\n",
      "Epoch 18: saving model to model/point_history_classifier\\point_history_classifier.hdf5\n",
      "25/25 [==============================] - 0s 5ms/step - loss: 0.4038 - accuracy: 0.8499 - val_loss: 0.1814 - val_accuracy: 0.9673\n",
      "Epoch 19/1000\n",
      "10/25 [===========>..................] - ETA: 0s - loss: 0.4082 - accuracy: 0.8523\n",
      "Epoch 19: saving model to model/point_history_classifier\\point_history_classifier.hdf5\n",
      "25/25 [==============================] - 0s 6ms/step - loss: 0.3963 - accuracy: 0.8546 - val_loss: 0.1818 - val_accuracy: 0.9686\n",
      "Epoch 20/1000\n",
      "19/25 [=====================>........] - ETA: 0s - loss: 0.4170 - accuracy: 0.8520\n",
      "Epoch 20: saving model to model/point_history_classifier\\point_history_classifier.hdf5\n",
      "25/25 [==============================] - 0s 5ms/step - loss: 0.4068 - accuracy: 0.8552 - val_loss: 0.1826 - val_accuracy: 0.9698\n",
      "Epoch 21/1000\n",
      "21/25 [========================>.....] - ETA: 0s - loss: 0.4068 - accuracy: 0.8564\n",
      "Epoch 21: saving model to model/point_history_classifier\\point_history_classifier.hdf5\n",
      "25/25 [==============================] - 0s 5ms/step - loss: 0.4100 - accuracy: 0.8543 - val_loss: 0.1822 - val_accuracy: 0.9673\n",
      "Epoch 22/1000\n",
      "21/25 [========================>.....] - ETA: 0s - loss: 0.3988 - accuracy: 0.8560\n",
      "Epoch 22: saving model to model/point_history_classifier\\point_history_classifier.hdf5\n",
      "25/25 [==============================] - 0s 5ms/step - loss: 0.4016 - accuracy: 0.8543 - val_loss: 0.1824 - val_accuracy: 0.9686\n",
      "Epoch 23/1000\n",
      "20/25 [=======================>......] - ETA: 0s - loss: 0.3952 - accuracy: 0.8582\n",
      "Epoch 23: saving model to model/point_history_classifier\\point_history_classifier.hdf5\n",
      "25/25 [==============================] - 0s 5ms/step - loss: 0.3998 - accuracy: 0.8552 - val_loss: 0.1821 - val_accuracy: 0.9660\n",
      "Epoch 24/1000\n",
      "20/25 [=======================>......] - ETA: 0s - loss: 0.3983 - accuracy: 0.8570\n",
      "Epoch 24: saving model to model/point_history_classifier\\point_history_classifier.hdf5\n",
      "25/25 [==============================] - 0s 5ms/step - loss: 0.3923 - accuracy: 0.8555 - val_loss: 0.1822 - val_accuracy: 0.9698\n",
      "Epoch 25/1000\n",
      "20/25 [=======================>......] - ETA: 0s - loss: 0.4160 - accuracy: 0.8457\n",
      "Epoch 25: saving model to model/point_history_classifier\\point_history_classifier.hdf5\n",
      "25/25 [==============================] - 0s 5ms/step - loss: 0.4045 - accuracy: 0.8495 - val_loss: 0.1826 - val_accuracy: 0.9686\n",
      "Epoch 26/1000\n",
      "19/25 [=====================>........] - ETA: 0s - loss: 0.3878 - accuracy: 0.8618\n",
      "Epoch 26: saving model to model/point_history_classifier\\point_history_classifier.hdf5\n",
      "25/25 [==============================] - 0s 5ms/step - loss: 0.3942 - accuracy: 0.8571 - val_loss: 0.1825 - val_accuracy: 0.9711\n",
      "Epoch 27/1000\n",
      "20/25 [=======================>......] - ETA: 0s - loss: 0.4129 - accuracy: 0.8504\n",
      "Epoch 27: saving model to model/point_history_classifier\\point_history_classifier.hdf5\n",
      "25/25 [==============================] - 0s 5ms/step - loss: 0.4045 - accuracy: 0.8536 - val_loss: 0.1823 - val_accuracy: 0.9711\n",
      "Epoch 28/1000\n",
      "21/25 [========================>.....] - ETA: 0s - loss: 0.4145 - accuracy: 0.8545\n",
      "Epoch 28: saving model to model/point_history_classifier\\point_history_classifier.hdf5\n",
      "25/25 [==============================] - 0s 5ms/step - loss: 0.4149 - accuracy: 0.8549 - val_loss: 0.1817 - val_accuracy: 0.9723\n",
      "Epoch 29/1000\n",
      "20/25 [=======================>......] - ETA: 0s - loss: 0.4032 - accuracy: 0.8520\n",
      "Epoch 29: saving model to model/point_history_classifier\\point_history_classifier.hdf5\n",
      "25/25 [==============================] - 0s 5ms/step - loss: 0.4092 - accuracy: 0.8530 - val_loss: 0.1815 - val_accuracy: 0.9723\n",
      "Epoch 30/1000\n",
      "22/25 [=========================>....] - ETA: 0s - loss: 0.3907 - accuracy: 0.8558\n",
      "Epoch 30: saving model to model/point_history_classifier\\point_history_classifier.hdf5\n",
      "25/25 [==============================] - 0s 5ms/step - loss: 0.3998 - accuracy: 0.8536 - val_loss: 0.1815 - val_accuracy: 0.9711\n",
      "Epoch 31/1000\n",
      "19/25 [=====================>........] - ETA: 0s - loss: 0.3954 - accuracy: 0.8507\n",
      "Epoch 31: saving model to model/point_history_classifier\\point_history_classifier.hdf5\n",
      "25/25 [==============================] - 0s 5ms/step - loss: 0.3945 - accuracy: 0.8502 - val_loss: 0.1797 - val_accuracy: 0.9711\n",
      "Epoch 32/1000\n",
      "21/25 [========================>.....] - ETA: 0s - loss: 0.3806 - accuracy: 0.8549\n",
      "Epoch 32: saving model to model/point_history_classifier\\point_history_classifier.hdf5\n",
      "25/25 [==============================] - 0s 5ms/step - loss: 0.3886 - accuracy: 0.8524 - val_loss: 0.1794 - val_accuracy: 0.9711\n",
      "Epoch 33/1000\n",
      "20/25 [=======================>......] - ETA: 0s - loss: 0.4221 - accuracy: 0.8477\n",
      "Epoch 33: saving model to model/point_history_classifier\\point_history_classifier.hdf5\n",
      "25/25 [==============================] - 0s 5ms/step - loss: 0.4117 - accuracy: 0.8480 - val_loss: 0.1815 - val_accuracy: 0.9711\n",
      "Epoch 34/1000\n",
      "21/25 [========================>.....] - ETA: 0s - loss: 0.3932 - accuracy: 0.8575\n",
      "Epoch 34: saving model to model/point_history_classifier\\point_history_classifier.hdf5\n",
      "25/25 [==============================] - 0s 5ms/step - loss: 0.3981 - accuracy: 0.8527 - val_loss: 0.1804 - val_accuracy: 0.9698\n",
      "Epoch 35/1000\n",
      "20/25 [=======================>......] - ETA: 0s - loss: 0.3968 - accuracy: 0.8574\n",
      "Epoch 35: saving model to model/point_history_classifier\\point_history_classifier.hdf5\n",
      "25/25 [==============================] - 0s 5ms/step - loss: 0.3912 - accuracy: 0.8590 - val_loss: 0.1796 - val_accuracy: 0.9711\n",
      "Epoch 36/1000\n",
      "19/25 [=====================>........] - ETA: 0s - loss: 0.4290 - accuracy: 0.8479\n",
      "Epoch 36: saving model to model/point_history_classifier\\point_history_classifier.hdf5\n",
      "25/25 [==============================] - 0s 5ms/step - loss: 0.4184 - accuracy: 0.8511 - val_loss: 0.1804 - val_accuracy: 0.9711\n",
      "Epoch 37/1000\n",
      "18/25 [====================>.........] - ETA: 0s - loss: 0.3993 - accuracy: 0.8520\n",
      "Epoch 37: saving model to model/point_history_classifier\\point_history_classifier.hdf5\n",
      "25/25 [==============================] - 0s 5ms/step - loss: 0.3913 - accuracy: 0.8568 - val_loss: 0.1792 - val_accuracy: 0.9711\n",
      "Epoch 38/1000\n",
      "18/25 [====================>.........] - ETA: 0s - loss: 0.3879 - accuracy: 0.8520\n",
      "Epoch 38: saving model to model/point_history_classifier\\point_history_classifier.hdf5\n",
      "25/25 [==============================] - 0s 5ms/step - loss: 0.3938 - accuracy: 0.8521 - val_loss: 0.1790 - val_accuracy: 0.9698\n",
      "Epoch 39/1000\n",
      "18/25 [====================>.........] - ETA: 0s - loss: 0.3846 - accuracy: 0.8594\n",
      "Epoch 39: saving model to model/point_history_classifier\\point_history_classifier.hdf5\n",
      "25/25 [==============================] - 0s 5ms/step - loss: 0.3845 - accuracy: 0.8621 - val_loss: 0.1785 - val_accuracy: 0.9723\n",
      "Epoch 40/1000\n",
      "19/25 [=====================>........] - ETA: 0s - loss: 0.3911 - accuracy: 0.8610\n",
      "Epoch 40: saving model to model/point_history_classifier\\point_history_classifier.hdf5\n",
      "25/25 [==============================] - 0s 5ms/step - loss: 0.3917 - accuracy: 0.8590 - val_loss: 0.1792 - val_accuracy: 0.9686\n",
      "Epoch 41/1000\n",
      "19/25 [=====================>........] - ETA: 0s - loss: 0.4216 - accuracy: 0.8491\n",
      "Epoch 41: saving model to model/point_history_classifier\\point_history_classifier.hdf5\n",
      "25/25 [==============================] - 0s 5ms/step - loss: 0.4200 - accuracy: 0.8511 - val_loss: 0.1807 - val_accuracy: 0.9711\n",
      "Epoch 42/1000\n",
      "18/25 [====================>.........] - ETA: 0s - loss: 0.3929 - accuracy: 0.8702\n",
      "Epoch 42: saving model to model/point_history_classifier\\point_history_classifier.hdf5\n",
      "25/25 [==============================] - 0s 5ms/step - loss: 0.3998 - accuracy: 0.8621 - val_loss: 0.1803 - val_accuracy: 0.9723\n",
      "Epoch 43/1000\n",
      "18/25 [====================>.........] - ETA: 0s - loss: 0.4181 - accuracy: 0.8520\n",
      "Epoch 43: saving model to model/point_history_classifier\\point_history_classifier.hdf5\n",
      "25/25 [==============================] - 0s 5ms/step - loss: 0.4049 - accuracy: 0.8549 - val_loss: 0.1822 - val_accuracy: 0.9711\n",
      "Epoch 44/1000\n",
      "18/25 [====================>.........] - ETA: 0s - loss: 0.4063 - accuracy: 0.8511\n",
      "Epoch 44: saving model to model/point_history_classifier\\point_history_classifier.hdf5\n",
      "25/25 [==============================] - 0s 5ms/step - loss: 0.3967 - accuracy: 0.8511 - val_loss: 0.1819 - val_accuracy: 0.9686\n",
      "Epoch 45/1000\n",
      "17/25 [===================>..........] - ETA: 0s - loss: 0.3843 - accuracy: 0.8580\n",
      "Epoch 45: saving model to model/point_history_classifier\\point_history_classifier.hdf5\n",
      "25/25 [==============================] - 0s 5ms/step - loss: 0.3867 - accuracy: 0.8577 - val_loss: 0.1816 - val_accuracy: 0.9698\n",
      "Epoch 46/1000\n",
      "18/25 [====================>.........] - ETA: 0s - loss: 0.3871 - accuracy: 0.8611\n",
      "Epoch 46: saving model to model/point_history_classifier\\point_history_classifier.hdf5\n",
      "25/25 [==============================] - 0s 5ms/step - loss: 0.4008 - accuracy: 0.8599 - val_loss: 0.1816 - val_accuracy: 0.9711\n",
      "Epoch 47/1000\n",
      "20/25 [=======================>......] - ETA: 0s - loss: 0.3855 - accuracy: 0.8488\n",
      "Epoch 47: saving model to model/point_history_classifier\\point_history_classifier.hdf5\n",
      "25/25 [==============================] - 0s 5ms/step - loss: 0.4039 - accuracy: 0.8445 - val_loss: 0.1825 - val_accuracy: 0.9711\n",
      "Epoch 48/1000\n",
      "18/25 [====================>.........] - ETA: 0s - loss: 0.3960 - accuracy: 0.8676\n",
      "Epoch 48: saving model to model/point_history_classifier\\point_history_classifier.hdf5\n",
      "25/25 [==============================] - 0s 5ms/step - loss: 0.3873 - accuracy: 0.8662 - val_loss: 0.1820 - val_accuracy: 0.9698\n",
      "Epoch 49/1000\n",
      "17/25 [===================>..........] - ETA: 0s - loss: 0.3882 - accuracy: 0.8598\n",
      "Epoch 49: saving model to model/point_history_classifier\\point_history_classifier.hdf5\n",
      "25/25 [==============================] - 0s 5ms/step - loss: 0.3897 - accuracy: 0.8580 - val_loss: 0.1805 - val_accuracy: 0.9686\n",
      "Epoch 50/1000\n",
      "18/25 [====================>.........] - ETA: 0s - loss: 0.3979 - accuracy: 0.8537\n",
      "Epoch 50: saving model to model/point_history_classifier\\point_history_classifier.hdf5\n",
      "25/25 [==============================] - 0s 5ms/step - loss: 0.3934 - accuracy: 0.8562 - val_loss: 0.1806 - val_accuracy: 0.9711\n",
      "Epoch 51/1000\n",
      "18/25 [====================>.........] - ETA: 0s - loss: 0.3680 - accuracy: 0.8663\n",
      "Epoch 51: saving model to model/point_history_classifier\\point_history_classifier.hdf5\n",
      "25/25 [==============================] - 0s 5ms/step - loss: 0.3849 - accuracy: 0.8606 - val_loss: 0.1801 - val_accuracy: 0.9711\n",
      "Epoch 52/1000\n",
      "18/25 [====================>.........] - ETA: 0s - loss: 0.3963 - accuracy: 0.8537\n",
      "Epoch 52: saving model to model/point_history_classifier\\point_history_classifier.hdf5\n",
      "25/25 [==============================] - 0s 5ms/step - loss: 0.4068 - accuracy: 0.8514 - val_loss: 0.1815 - val_accuracy: 0.9686\n",
      "Epoch 53/1000\n",
      "17/25 [===================>..........] - ETA: 0s - loss: 0.4130 - accuracy: 0.8483\n",
      "Epoch 53: saving model to model/point_history_classifier\\point_history_classifier.hdf5\n",
      "25/25 [==============================] - 0s 5ms/step - loss: 0.4044 - accuracy: 0.8499 - val_loss: 0.1826 - val_accuracy: 0.9698\n",
      "Epoch 54/1000\n",
      "18/25 [====================>.........] - ETA: 0s - loss: 0.3760 - accuracy: 0.8702\n",
      "Epoch 54: saving model to model/point_history_classifier\\point_history_classifier.hdf5\n",
      "25/25 [==============================] - 0s 5ms/step - loss: 0.3791 - accuracy: 0.8691 - val_loss: 0.1819 - val_accuracy: 0.9698\n",
      "Epoch 55/1000\n",
      "18/25 [====================>.........] - ETA: 0s - loss: 0.3987 - accuracy: 0.8602\n",
      "Epoch 55: saving model to model/point_history_classifier\\point_history_classifier.hdf5\n",
      "25/25 [==============================] - 0s 5ms/step - loss: 0.3982 - accuracy: 0.8587 - val_loss: 0.1818 - val_accuracy: 0.9698\n",
      "Epoch 56/1000\n",
      "19/25 [=====================>........] - ETA: 0s - loss: 0.3921 - accuracy: 0.8598\n",
      "Epoch 56: saving model to model/point_history_classifier\\point_history_classifier.hdf5\n",
      "25/25 [==============================] - 0s 5ms/step - loss: 0.3933 - accuracy: 0.8584 - val_loss: 0.1819 - val_accuracy: 0.9698\n",
      "Epoch 57/1000\n",
      "19/25 [=====================>........] - ETA: 0s - loss: 0.3947 - accuracy: 0.8590\n",
      "Epoch 57: saving model to model/point_history_classifier\\point_history_classifier.hdf5\n",
      "25/25 [==============================] - 0s 5ms/step - loss: 0.3959 - accuracy: 0.8596 - val_loss: 0.1817 - val_accuracy: 0.9711\n",
      "Epoch 58/1000\n",
      "18/25 [====================>.........] - ETA: 0s - loss: 0.4122 - accuracy: 0.8516\n",
      "Epoch 58: saving model to model/point_history_classifier\\point_history_classifier.hdf5\n",
      "25/25 [==============================] - 0s 5ms/step - loss: 0.4060 - accuracy: 0.8536 - val_loss: 0.1822 - val_accuracy: 0.9698\n",
      "Epoch 59/1000\n",
      "18/25 [====================>.........] - ETA: 0s - loss: 0.3818 - accuracy: 0.8728\n",
      "Epoch 59: saving model to model/point_history_classifier\\point_history_classifier.hdf5\n",
      "25/25 [==============================] - 0s 5ms/step - loss: 0.3915 - accuracy: 0.8624 - val_loss: 0.1821 - val_accuracy: 0.9686\n",
      "Epoch 59: early stopping\n"
     ]
    },
    {
     "data": {
      "text/plain": [
       "<keras.callbacks.History at 0x1b6190d22c0>"
      ]
     },
     "execution_count": 18,
     "metadata": {},
     "output_type": "execute_result"
    }
   ],
   "source": [
    "model.fit(\n",
    "    X_train,\n",
    "    y_train,\n",
    "    epochs=1000,\n",
    "    batch_size=128,\n",
    "    validation_split = 0.2,\n",
    "    callbacks=[cp_callback, es_callback]\n",
    ")"
   ]
  },
  {
   "cell_type": "code",
   "execution_count": 19,
   "id": "7e357ac1-334f-4ed7-9a97-8270cc753693",
   "metadata": {},
   "outputs": [],
   "source": [
    "model = tf.keras.models.load_model(model_save_path)"
   ]
  },
  {
   "cell_type": "code",
   "execution_count": 20,
   "id": "9a068e82-fb31-43db-8705-8064868e0fe6",
   "metadata": {},
   "outputs": [
    {
     "name": "stdout",
     "output_type": "stream",
     "text": [
      "1/1 [==============================] - 0s 71ms/step\n",
      "[0.94590306 0.01279058 0.0238792  0.01742719]\n",
      "0\n"
     ]
    }
   ],
   "source": [
    "predict_result = model.predict(np.array([X_test[0]]))\n",
    "print(np.squeeze(predict_result))\n",
    "print(np.argmax(np.squeeze(predict_result)))"
   ]
  },
  {
   "cell_type": "code",
   "execution_count": 21,
   "id": "8e15796c-b02f-4ec7-89c1-644a005e2a77",
   "metadata": {},
   "outputs": [
    {
     "name": "stdout",
     "output_type": "stream",
     "text": [
      "42/42 [==============================] - 0s 1ms/step\n"
     ]
    },
    {
     "data": {
      "image/png": "[encoded data removed]",
      "text/plain": [
       "<Figure size 700x600 with 2 Axes>"
      ]
     },
     "metadata": {},
     "output_type": "display_data"
    },
    {
     "name": "stdout",
     "output_type": "stream",
     "text": [
      "Classification Report\n",
      "              precision    recall  f1-score   support\n",
      "\n",
      "           0       0.99      1.00      0.99       395\n",
      "           1       0.96      0.99      0.97       295\n",
      "           2       0.95      0.98      0.97       307\n",
      "           3       0.97      0.91      0.94       327\n",
      "\n",
      "    accuracy                           0.97      1324\n",
      "   macro avg       0.97      0.97      0.97      1324\n",
      "weighted avg       0.97      0.97      0.97      1324\n",
      "\n"
     ]
    }
   ],
   "source": [
    "import pandas as pd\n",
    "import seaborn as sns\n",
    "import matplotlib.pyplot as plt\n",
    "from sklearn.metrics import confusion_matrix, classification_report\n",
    "\n",
    "def print_confusion_matrix(y_true, y_pred, report=True):\n",
    "    labels = sorted(list(set(y_true)))\n",
    "    cmx_data = confusion_matrix(y_true, y_pred, labels=labels)\n",
    "    \n",
    "    df_cmx = pd.DataFrame(cmx_data, index=labels, columns=labels)\n",
    " \n",
    "    fig, ax = plt.subplots(figsize=(7, 6))\n",
    "    sns.heatmap(df_cmx, annot=True, fmt='g' ,square=False)\n",
    "    ax.set_ylim(len(set(y_true)), 0)\n",
    "    plt.show()\n",
    "    \n",
    "    if report:\n",
    "        print('Classification Report')\n",
    "        print(classification_report(y_test, y_pred))\n",
    "\n",
    "Y_pred = model.predict(X_test)\n",
    "y_pred = np.argmax(Y_pred, axis=1)\n",
    "\n",
    "print_confusion_matrix(y_test, y_pred)"
   ]
  },
  {
   "cell_type": "code",
   "execution_count": 22,
   "id": "ab61dba3-7f04-4e10-8f5b-bb796608f60b",
   "metadata": {},
   "outputs": [
    {
     "name": "stdout",
     "output_type": "stream",
     "text": [
      "WARNING:tensorflow:No training configuration found in the save file, so the model was *not* compiled. Compile it manually.\n"
     ]
    }
   ],
   "source": [
    "model.save(model_save_path, include_optimizer=False)\n",
    "model = tf.keras.models.load_model(model_save_path)"
   ]
  },
  {
   "cell_type": "code",
   "execution_count": 23,
   "id": "d6166e58-6365-46c0-819e-1fb5cf01bd91",
   "metadata": {},
   "outputs": [],
   "source": [
    "tflite_save_path = 'model/point_history_classifier/point_history_classifier.tflite'"
   ]
  },
  {
   "cell_type": "code",
   "execution_count": 24,
   "id": "9f811e39-3c54-467a-9e20-ff172ef8caea",
   "metadata": {},
   "outputs": [
    {
     "name": "stdout",
     "output_type": "stream",
     "text": [
      "INFO:tensorflow:Assets written to: C:\\Users\\adity\\AppData\\Local\\Temp\\tmpbgmqn49n\\assets\n"
     ]
    },
    {
     "data": {
      "text/plain": [
       "6432"
      ]
     },
     "execution_count": 24,
     "metadata": {},
     "output_type": "execute_result"
    }
   ],
   "source": [
    "converter = tf.lite.TFLiteConverter.from_keras_model(model)  # converter = tf.lite.TFLiteConverter.from_saved_model(saved_model_path)\n",
    "converter.optimizations = [tf.lite.Optimize.DEFAULT]\n",
    "tflite_quantized_model = converter.convert()\n",
    "\n",
    "open(tflite_save_path, 'wb').write(tflite_quantized_model)"
   ]
  },
  {
   "cell_type": "code",
   "execution_count": 25,
   "id": "91060b52-0c91-4dfd-a04b-2f071b2bc7b5",
   "metadata": {},
   "outputs": [],
   "source": [
    "interpreter = tf.lite.Interpreter(model_path=tflite_save_path)\n",
    "interpreter.allocate_tensors()"
   ]
  },
  {
   "cell_type": "code",
   "execution_count": 26,
   "id": "31e7cec1-7d28-43e2-8b18-cf21c39ff84d",
   "metadata": {},
   "outputs": [
    {
     "name": "stdout",
     "output_type": "stream",
     "text": [
      "[{'name': 'serving_default_input_1:0', 'index': 0, 'shape': array([ 1, 32]), 'shape_signature': array([-1, 32]), 'dtype': <class 'numpy.float32'>, 'quantization': (0.0, 0), 'quantization_parameters': {'scales': array([], dtype=float32), 'zero_points': array([], dtype=int32), 'quantized_dimension': 0}, 'sparsity_parameters': {}}]\n"
     ]
    }
   ],
   "source": [
    "input_details = interpreter.get_input_details()\n",
    "output_details = interpreter.get_output_details()\n",
    "print(input_details)"
   ]
  },
  {
   "cell_type": "code",
   "execution_count": 27,
   "id": "59b96fd3-944f-42f3-a403-50fbaa0536c1",
   "metadata": {},
   "outputs": [],
   "source": [
    "interpreter.set_tensor(input_details[0]['index'], np.array([X_test[0]]))"
   ]
  },
  {
   "cell_type": "code",
   "execution_count": 28,
   "id": "227ad379-ab78-424a-84cf-53e2d6e142e9",
   "metadata": {},
   "outputs": [
    {
     "name": "stdout",
     "output_type": "stream",
     "text": [
      "CPU times: total: 0 ns\n",
      "Wall time: 0 ns\n"
     ]
    }
   ],
   "source": [
    "%%time\n",
    "interpreter.invoke()\n",
    "tflite_results = interpreter.get_tensor(output_details[0]['index'])"
   ]
  },
  {
   "cell_type": "code",
   "execution_count": 29,
   "id": "2203d53d-a218-4466-bc3d-1bedc0051fdb",
   "metadata": {},
   "outputs": [
    {
     "name": "stdout",
     "output_type": "stream",
     "text": [
      "[0.94590306 0.01279058 0.02387921 0.01742719]\n",
      "0\n"
     ]
    }
   ],
   "source": [
    "print(np.squeeze(tflite_results))\n",
    "print(np.argmax(np.squeeze(tflite_results)))"
   ]
  },
  {
   "cell_type": "code",
   "execution_count": null,
   "id": "4fe98253-d2dc-4f9c-bcb4-fa98c61383bb",
   "metadata": {},
   "outputs": [],
   "source": []
  }
 ],
 "metadata": {
  "kernelspec": {
   "display_name": "'TFGPU'",
   "language": "python",
   "name": "tfgpu"
  },
  "language_info": {
   "codemirror_mode": {
    "name": "ipython",
    "version": 3
   },
   "file_extension": ".py",
   "mimetype": "text/x-python",
   "name": "python",
   "nbconvert_exporter": "python",
   "pygments_lexer": "ipython3",
   "version": "3.10.0"
  }
 },
 "nbformat": 4,
 "nbformat_minor": 5
}
